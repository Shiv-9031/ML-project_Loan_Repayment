{
 "cells": [
  {
   "cell_type": "code",
   "execution_count": 2,
   "id": "ef135f23",
   "metadata": {},
   "outputs": [],
   "source": [
    "import numpy as np\n",
    "import pandas as pd\n",
    "from sklearn.model_selection import train_test_split\n",
    "from sklearn.tree import DecisionTreeClassifier\n",
    "from sklearn.metrics import accuracy_score\n",
    "from sklearn import tree\n"
   ]
  },
  {
   "cell_type": "code",
   "execution_count": 10,
   "id": "f3e25458",
   "metadata": {},
   "outputs": [],
   "source": [
    "\n",
    "balance_data=pd.read_csv(r'Decision_Tree_ Dataset.csv',sep=',',header=0)"
   ]
  },
  {
   "cell_type": "code",
   "execution_count": 8,
   "id": "5c03f8ca",
   "metadata": {},
   "outputs": [
    {
     "data": {
      "text/html": [
       "<div>\n",
       "<style scoped>\n",
       "    .dataframe tbody tr th:only-of-type {\n",
       "        vertical-align: middle;\n",
       "    }\n",
       "\n",
       "    .dataframe tbody tr th {\n",
       "        vertical-align: top;\n",
       "    }\n",
       "\n",
       "    .dataframe thead th {\n",
       "        text-align: right;\n",
       "    }\n",
       "</style>\n",
       "<table border=\"1\" class=\"dataframe\">\n",
       "  <thead>\n",
       "    <tr style=\"text-align: right;\">\n",
       "      <th></th>\n",
       "      <th>1</th>\n",
       "      <th>2</th>\n",
       "      <th>3</th>\n",
       "      <th>4</th>\n",
       "      <th>sum</th>\n",
       "      <th>Unnamed: 5</th>\n",
       "    </tr>\n",
       "  </thead>\n",
       "  <tbody>\n",
       "    <tr>\n",
       "      <th>0</th>\n",
       "      <td>201</td>\n",
       "      <td>10018</td>\n",
       "      <td>250</td>\n",
       "      <td>3046</td>\n",
       "      <td>13515</td>\n",
       "      <td>yes</td>\n",
       "    </tr>\n",
       "    <tr>\n",
       "      <th>1</th>\n",
       "      <td>205</td>\n",
       "      <td>10016</td>\n",
       "      <td>395</td>\n",
       "      <td>3044</td>\n",
       "      <td>13660</td>\n",
       "      <td>yes</td>\n",
       "    </tr>\n",
       "    <tr>\n",
       "      <th>2</th>\n",
       "      <td>257</td>\n",
       "      <td>10129</td>\n",
       "      <td>109</td>\n",
       "      <td>3251</td>\n",
       "      <td>13746</td>\n",
       "      <td>yes</td>\n",
       "    </tr>\n",
       "    <tr>\n",
       "      <th>3</th>\n",
       "      <td>246</td>\n",
       "      <td>10064</td>\n",
       "      <td>324</td>\n",
       "      <td>3137</td>\n",
       "      <td>13771</td>\n",
       "      <td>yes</td>\n",
       "    </tr>\n",
       "    <tr>\n",
       "      <th>4</th>\n",
       "      <td>117</td>\n",
       "      <td>10115</td>\n",
       "      <td>496</td>\n",
       "      <td>3094</td>\n",
       "      <td>13822</td>\n",
       "      <td>yes</td>\n",
       "    </tr>\n",
       "  </tbody>\n",
       "</table>\n",
       "</div>"
      ],
      "text/plain": [
       "     1      2    3     4    sum Unnamed: 5\n",
       "0  201  10018  250  3046  13515        yes\n",
       "1  205  10016  395  3044  13660        yes\n",
       "2  257  10129  109  3251  13746        yes\n",
       "3  246  10064  324  3137  13771        yes\n",
       "4  117  10115  496  3094  13822        yes"
      ]
     },
     "execution_count": 8,
     "metadata": {},
     "output_type": "execute_result"
    }
   ],
   "source": [
    "balance_data.head()\n"
   ]
  },
  {
   "cell_type": "code",
   "execution_count": null,
   "id": "e26e3ac2",
   "metadata": {},
   "outputs": [],
   "source": []
  },
  {
   "cell_type": "code",
   "execution_count": 11,
   "id": "bdfc81ec",
   "metadata": {},
   "outputs": [
    {
     "data": {
      "text/plain": [
       "(1000, 6)"
      ]
     },
     "execution_count": 11,
     "metadata": {},
     "output_type": "execute_result"
    }
   ],
   "source": [
    "balance_data.shape"
   ]
  },
  {
   "cell_type": "code",
   "execution_count": 19,
   "id": "2de39a09",
   "metadata": {},
   "outputs": [],
   "source": [
    "#seprating Traget variables\n",
    "X= balance_data.values[:,:4]\n",
    "Y=balance_data.values[:,5]"
   ]
  },
  {
   "cell_type": "code",
   "execution_count": 37,
   "id": "9258710e",
   "metadata": {},
   "outputs": [
    {
     "name": "stdout",
     "output_type": "stream",
     "text": [
      "[201 10018 250 3046]\n"
     ]
    }
   ],
   "source": [
    "print(X[0])"
   ]
  },
  {
   "cell_type": "code",
   "execution_count": 21,
   "id": "7859497d",
   "metadata": {},
   "outputs": [],
   "source": [
    "#spillitng dataset into Test and Train\n",
    "X_train,X_test,Y_train,Y_test=train_test_split(X,Y,test_size=0.3,random_state=100)"
   ]
  },
  {
   "cell_type": "code",
   "execution_count": 22,
   "id": "4e5b9dda",
   "metadata": {},
   "outputs": [],
   "source": [
    "# function to perform training with DecisionTree algorithm\n",
    "model=DecisionTreeClassifier(criterion='entropy',random_state=100,max_depth=3,min_samples_leaf=5)"
   ]
  },
  {
   "cell_type": "code",
   "execution_count": 23,
   "id": "7d9a875c",
   "metadata": {},
   "outputs": [
    {
     "data": {
      "text/plain": [
       "DecisionTreeClassifier(criterion='entropy', max_depth=3, min_samples_leaf=5,\n",
       "                       random_state=100)"
      ]
     },
     "execution_count": 23,
     "metadata": {},
     "output_type": "execute_result"
    }
   ],
   "source": [
    "model.fit(X_train,Y_train)"
   ]
  },
  {
   "cell_type": "code",
   "execution_count": 35,
   "id": "0a7af4bc",
   "metadata": {},
   "outputs": [],
   "source": [
    "#model Evaluation\n",
    "# accuracy on training data\n",
    "\n",
    "X_train_prediction=model.predict(X_train)\n"
   ]
  },
  {
   "cell_type": "code",
   "execution_count": 25,
   "id": "0c8c575f",
   "metadata": {},
   "outputs": [],
   "source": [
    "training_data_accuracy= accuracy_score(X_train_prediction,Y_train)"
   ]
  },
  {
   "cell_type": "code",
   "execution_count": 26,
   "id": "30da880b",
   "metadata": {},
   "outputs": [
    {
     "name": "stdout",
     "output_type": "stream",
     "text": [
      "Accuracy on training data : 0.9585714285714285\n"
     ]
    }
   ],
   "source": [
    "print('Accuracy on training data :', training_data_accuracy)"
   ]
  },
  {
   "cell_type": "code",
   "execution_count": 27,
   "id": "ccddbb00",
   "metadata": {},
   "outputs": [],
   "source": [
    "# model evaluation on test data\n",
    "# accuracy test on test data\n",
    "X_test_prediction=model.predict(X_test)\n",
    "test_data_accuracy= accuracy_score(X_test_prediction,Y_test)"
   ]
  },
  {
   "cell_type": "code",
   "execution_count": 30,
   "id": "85a22196",
   "metadata": {},
   "outputs": [
    {
     "name": "stdout",
     "output_type": "stream",
     "text": [
      "accuracy on test data :  0.9366666666666666\n"
     ]
    }
   ],
   "source": [
    "print('accuracy on test data : ',test_data_accuracy)"
   ]
  },
  {
   "cell_type": "code",
   "execution_count": 46,
   "id": "2fb34f7e",
   "metadata": {},
   "outputs": [
    {
     "name": "stdout",
     "output_type": "stream",
     "text": [
      "Loan Retuned ,Loan Retuned ,Loan Retuned ,Loan Retuned ,Loan Retuned ,Loan Retuned ,Loan Retuned ,Loan Retuned ,Loan Retuned ,Loan Retuned ,Loan Retuned ,Loan Retuned ,Loan Retuned ,Loan Retuned ,Loan Retuned ,Loan Retuned ,Loan Retuned ,Loan Retuned ,Loan Retuned ,Loan Retuned ,Loan Retuned ,Loan Retuned ,Loan Retuned ,Loan Retuned ,Loan Retuned ,Loan Retuned ,Loan Retuned ,Loan Retuned ,Loan Retuned ,Loan Retuned ,Loan Retuned ,Loan Retuned ,Loan Retuned ,Loan Retuned ,Loan Retuned ,Loan Retuned ,Loan Retuned ,Loan Retuned ,Loan Retuned ,Loan Retuned ,Loan Retuned ,Loan Retuned ,Loan Retuned ,Loan Retuned ,Loan Retuned ,Loan Retuned ,Loan Retuned ,Loan Retuned ,Loan Retuned ,Loan Retuned ,Loan Retuned ,Loan Retuned ,Loan Retuned ,Loan Retuned ,Loan Retuned ,Loan Retuned ,Loan Retuned ,Loan Retuned ,Loan Retuned ,Loan Retuned ,Loan Retuned ,Loan Retuned ,Loan Retuned ,Loan Retuned ,Loan Retuned ,Loan Retuned ,Loan Retuned ,Loan Retuned ,Loan Retuned ,Loan Retuned ,Loan Retuned ,Loan Retuned ,Loan Retuned ,Loan Retuned ,Loan Retuned ,Loan Retuned ,Loan Retuned ,Loan Retuned ,Loan Retuned ,Loan Retuned ,Loan Retuned ,Loan Retuned ,Loan Retuned ,Loan Retuned ,Loan Retuned ,Loan Retuned ,Loan Retuned ,Loan Retuned ,Loan Retuned ,Loan Retuned ,Loan Retuned ,Loan Retuned ,Loan Retuned ,Loan Retuned ,Loan Retuned ,Loan Retuned ,Loan Retuned ,Loan Retuned ,Loan Retuned ,Loan Retuned ,Loan Retuned ,Loan Retuned ,Loan Retuned ,Loan Retuned ,Loan Retuned ,Loan Retuned ,Loan Retuned ,Loan Retuned ,Loan Retuned ,Loan Retuned ,Loan Retuned ,Loan Retuned ,Loan Retuned ,Loan Retuned ,Loan Retuned ,Loan Retuned ,Loan Retuned ,Loan Retuned ,Loan Retuned ,Loan Retuned ,Loan Retuned ,Loan Retuned ,Loan Retuned ,Loan Retuned ,Loan Retuned ,Loan Retuned ,Loan Retuned ,Loan Retuned ,Loan Retuned ,Loan Retuned ,Loan Retuned ,Loan Retuned ,Loan Retuned ,Loan Retuned ,Loan Retuned ,Loan Retuned ,Loan Retuned ,Loan Retuned ,Loan Retuned ,Loan Retuned ,Loan Retuned ,Loan Retuned ,Loan Retuned ,Loan Retuned ,Loan Retuned ,Loan Retuned ,Loan Retuned ,Loan Retuned ,Loan Retuned ,Loan Retuned ,Loan Retuned ,Loan Retuned ,Loan Retuned ,Loan Retuned ,Loan Retuned ,Loan Retuned ,Loan Retuned ,Loan Retuned ,Loan Retuned ,Loan Retuned ,Loan Retuned ,Loan Retuned ,Loan Retuned ,Loan Retuned ,Loan Retuned ,Loan Retuned ,Loan Retuned ,Loan Retuned ,Loan Retuned ,Loan Retuned ,Loan Retuned ,Loan Retuned ,Loan Retuned ,Loan Retuned ,Loan Retuned ,Loan Retuned ,Loan Retuned ,Loan Retuned ,Loan Retuned ,Loan Retuned ,Loan Retuned ,Loan Retuned ,Loan Retuned ,Loan Retuned ,Loan Retuned ,Loan Retuned ,Loan Retuned ,Loan Retuned ,Loan Retuned ,Loan Retuned ,Loan Retuned ,Loan Retuned ,Loan Retuned ,Loan Retuned ,Loan Retuned ,Loan Retuned ,Loan Retuned ,Loan Retuned ,Loan Retuned ,Loan Retuned ,Loan Retuned ,Loan Retuned ,Loan Retuned ,Loan Retuned ,Loan Retuned ,Loan Retuned ,Loan Retuned ,Loan Retuned ,Loan Retuned ,Loan Retuned ,Loan Retuned ,Loan Retuned ,Loan Retuned ,Loan Retuned ,Loan Retuned ,Loan Retuned ,Loan Retuned ,Loan Retuned ,Loan Retuned ,Loan Retuned ,Loan Retuned ,Loan Retuned ,Loan Retuned ,Loan Retuned ,Loan Retuned ,Loan Retuned ,Loan Retuned ,Loan Retuned ,Loan Retuned ,Loan Retuned ,Loan Retuned ,Loan Retuned ,Loan Retuned ,Loan Retuned ,Loan Retuned ,Loan Retuned ,Loan Retuned ,Loan Retuned ,Loan Retuned ,Loan Retuned ,Loan Retuned ,Loan Retuned ,Loan Retuned ,Loan Retuned ,Loan Retuned ,Loan Retuned ,Loan Retuned ,Loan Retuned ,Loan Retuned ,Loan Retuned ,Loan Retuned ,Loan Retuned ,Loan Retuned ,Loan Retuned ,Loan Retuned ,Loan Retuned ,Loan Retuned ,Loan Retuned ,Loan Retuned ,Loan Retuned ,Loan Retuned ,Loan Retuned ,Loan Retuned ,Loan Retuned ,Loan Retuned ,Loan Retuned ,Loan Retuned ,Loan Retuned ,Loan Retuned ,Loan Retuned ,Loan Retuned ,Loan Retuned ,Loan Retuned ,Loan Retuned ,Loan Retuned ,Loan Retuned ,Loan Retuned ,Loan Retuned ,Loan Retuned ,Loan Retuned ,Loan Retuned ,Loan Retuned ,Loan Retuned ,Loan Retuned ,Loan Retuned ,Loan Retuned ,Loan Retuned ,Loan Retuned ,Loan Retuned ,Loan Retuned ,Loan Retuned ,Loan Retuned ,Loan Retuned ,Loan Retuned ,Loan Retuned ,Loan Retuned ,Loan Retuned ,Loan Retuned ,Loan Retuned ,Loan Retuned ,Loan Retuned ,Loan Retuned ,Loan Retuned ,Loan Retuned ,Loan Retuned ,Loan Retuned ,Loan Retuned ,Loan Retuned ,Loan Retuned ,Loan Retuned ,Loan Retuned ,Loan Retuned ,Loan Retuned ,Loan Retuned ,Loan Defaulter ,Loan Retuned ,Loan Retuned ,Loan Retuned ,Loan Retuned ,Loan Retuned ,Loan Retuned ,Loan Retuned ,Loan Retuned ,Loan Retuned ,Loan Retuned ,Loan Retuned ,Loan Retuned ,Loan Retuned ,Loan Retuned ,Loan Retuned ,Loan Retuned ,Loan Retuned ,Loan Retuned ,Loan Retuned ,Loan Retuned ,Loan Retuned ,Loan Retuned ,Loan Retuned ,Loan Retuned ,Loan Retuned ,Loan Retuned ,Loan Retuned ,Loan Retuned ,Loan Retuned ,Loan Retuned ,Loan Retuned ,Loan Retuned ,Loan Defaulter ,Loan Retuned ,Loan Retuned ,Loan Retuned ,Loan Retuned ,Loan Retuned ,Loan Retuned ,Loan Retuned ,Loan Retuned ,Loan Retuned ,Loan Retuned ,Loan Defaulter ,Loan Retuned ,Loan Retuned ,Loan Retuned ,Loan Retuned ,Loan Retuned ,Loan Retuned ,Loan Retuned ,Loan Retuned ,Loan Retuned ,Loan Retuned ,Loan Retuned ,Loan Retuned ,Loan Retuned ,Loan Retuned ,Loan Retuned ,Loan Retuned ,Loan Retuned ,Loan Retuned ,Loan Retuned ,Loan Retuned ,Loan Retuned ,Loan Retuned ,Loan Retuned ,Loan Retuned ,Loan Defaulter ,Loan Retuned ,Loan Retuned ,Loan Retuned ,Loan Retuned ,Loan Retuned ,Loan Retuned ,Loan Defaulter ,Loan Retuned ,Loan Retuned ,Loan Retuned ,Loan Retuned ,Loan Retuned ,Loan Retuned ,Loan Retuned ,Loan Defaulter ,Loan Retuned ,Loan Retuned ,Loan Retuned ,Loan Retuned ,Loan Retuned ,Loan Retuned ,Loan Retuned ,Loan Retuned ,Loan Retuned ,Loan Retuned ,Loan Retuned ,Loan Retuned ,Loan Retuned ,Loan Retuned ,Loan Retuned ,Loan Retuned ,Loan Defaulter ,Loan Retuned ,Loan Retuned ,Loan Retuned ,Loan Retuned ,Loan Retuned ,Loan Retuned ,Loan Defaulter ,Loan Retuned ,Loan Retuned ,Loan Retuned ,Loan Retuned ,Loan Retuned ,Loan Retuned ,Loan Retuned ,Loan Retuned ,Loan Retuned ,Loan Retuned ,Loan Retuned ,Loan Defaulter ,Loan Retuned ,Loan Retuned ,Loan Retuned ,Loan Retuned ,Loan Retuned ,Loan Retuned ,Loan Defaulter ,Loan Defaulter ,Loan Defaulter ,Loan Defaulter ,Loan Retuned ,Loan Retuned ,Loan Retuned ,Loan Defaulter ,Loan Retuned ,Loan Retuned ,Loan Defaulter ,Loan Retuned ,Loan Retuned ,Loan Retuned ,Loan Retuned ,Loan Retuned ,Loan Retuned ,Loan Defaulter ,Loan Retuned ,Loan Retuned ,Loan Retuned ,Loan Retuned ,Loan Retuned ,Loan Retuned ,Loan Defaulter ,Loan Retuned ,Loan Defaulter ,Loan Retuned ,Loan Defaulter ,Loan Defaulter ,Loan Retuned ,Loan Defaulter ,Loan Defaulter ,Loan Defaulter ,Loan Retuned ,Loan Retuned ,Loan Retuned ,Loan Retuned ,Loan Defaulter ,Loan Defaulter ,Loan Defaulter ,Loan Retuned ,Loan Defaulter ,Loan Defaulter ,Loan Defaulter ,Loan Defaulter ,Loan Retuned ,Loan Defaulter ,Loan Defaulter ,Loan Defaulter ,Loan Defaulter ,Loan Retuned ,Loan Retuned ,Loan Defaulter ,Loan Retuned ,Loan Defaulter ,Loan Retuned ,Loan Defaulter ,Loan Retuned ,Loan Retuned ,Loan Defaulter ,Loan Defaulter ,Loan Retuned ,Loan Defaulter ,Loan Defaulter ,Loan Defaulter ,Loan Defaulter ,Loan Retuned ,Loan Retuned ,Loan Retuned ,Loan Defaulter ,Loan Retuned ,Loan Defaulter ,Loan Defaulter ,Loan Defaulter ,Loan Defaulter ,Loan Defaulter ,Loan Defaulter ,Loan Defaulter ,Loan Retuned ,Loan Retuned ,Loan Retuned ,Loan Defaulter ,Loan Defaulter ,Loan Retuned ,Loan Defaulter ,Loan Defaulter ,Loan Defaulter ,Loan Defaulter ,Loan Defaulter ,Loan Defaulter ,Loan Defaulter ,Loan Retuned ,Loan Defaulter ,Loan Defaulter ,Loan Defaulter ,Loan Defaulter ,Loan Defaulter ,Loan Defaulter ,Loan Defaulter ,Loan Defaulter ,Loan Retuned ,Loan Defaulter ,Loan Defaulter ,Loan Defaulter ,Loan Defaulter ,Loan Defaulter ,Loan Retuned ,Loan Defaulter ,Loan Defaulter ,Loan Defaulter ,Loan Defaulter ,Loan Retuned ,Loan Defaulter ,Loan Defaulter ,Loan Defaulter ,Loan Defaulter ,Loan Defaulter ,Loan Defaulter ,Loan Defaulter ,Loan Defaulter ,Loan Defaulter ,Loan Defaulter ,Loan Defaulter ,Loan Defaulter ,Loan Defaulter ,Loan Defaulter ,Loan Defaulter ,Loan Retuned ,Loan Defaulter ,Loan Defaulter ,Loan Defaulter ,Loan Defaulter ,Loan Defaulter ,Loan Defaulter ,Loan Defaulter ,Loan Defaulter ,Loan Defaulter ,Loan Defaulter ,Loan Retuned ,Loan Defaulter ,Loan Defaulter ,Loan Defaulter ,Loan Defaulter ,Loan Defaulter ,Loan Defaulter ,Loan Defaulter ,Loan Defaulter ,Loan Defaulter ,Loan Defaulter ,Loan Defaulter ,Loan Defaulter ,Loan Defaulter ,Loan Defaulter ,Loan Retuned ,Loan Defaulter ,Loan Defaulter ,Loan Defaulter ,Loan Defaulter ,Loan Defaulter ,Loan Defaulter ,Loan Retuned ,Loan Defaulter ,Loan Defaulter ,Loan Defaulter ,Loan Defaulter ,Loan Defaulter ,Loan Defaulter ,Loan Defaulter ,Loan Defaulter ,Loan Defaulter ,Loan Defaulter ,Loan Defaulter ,Loan Defaulter ,Loan Defaulter ,Loan Defaulter ,Loan Defaulter ,Loan Defaulter ,Loan Defaulter ,Loan Defaulter ,Loan Defaulter ,Loan Defaulter ,Loan Defaulter ,Loan Defaulter ,Loan Defaulter ,Loan Defaulter ,Loan Defaulter ,Loan Defaulter ,Loan Defaulter ,Loan Defaulter ,Loan Defaulter ,Loan Defaulter ,Loan Defaulter ,Loan Defaulter ,Loan Defaulter ,Loan Defaulter ,Loan Defaulter ,Loan Defaulter ,Loan Defaulter ,Loan Defaulter ,Loan Defaulter ,Loan Defaulter ,Loan Defaulter ,Loan Defaulter ,Loan Defaulter ,Loan Defaulter ,Loan Defaulter ,Loan Defaulter ,Loan Defaulter ,Loan Defaulter ,Loan Defaulter ,Loan Defaulter ,Loan Defaulter ,Loan Defaulter ,Loan Defaulter ,Loan Defaulter ,Loan Defaulter ,Loan Defaulter ,Loan Defaulter ,Loan Defaulter ,Loan Defaulter ,Loan Defaulter ,Loan Defaulter ,Loan Defaulter ,Loan Defaulter ,Loan Defaulter ,Loan Defaulter ,Loan Defaulter ,Loan Defaulter ,Loan Defaulter ,Loan Defaulter ,Loan Defaulter ,Loan Defaulter ,Loan Defaulter ,Loan Defaulter ,Loan Defaulter ,Loan Defaulter ,Loan Defaulter ,Loan Defaulter ,Loan Defaulter ,Loan Defaulter ,Loan Defaulter ,Loan Defaulter ,Loan Defaulter ,Loan Defaulter ,Loan Defaulter ,Loan Defaulter ,Loan Defaulter ,Loan Defaulter ,Loan Defaulter ,Loan Defaulter ,Loan Defaulter ,Loan Defaulter ,Loan Defaulter ,Loan Defaulter ,Loan Defaulter ,Loan Defaulter ,Loan Defaulter ,Loan Defaulter ,Loan Defaulter ,Loan Defaulter ,Loan Defaulter ,Loan Defaulter ,Loan Defaulter ,Loan Defaulter ,Loan Defaulter ,Loan Defaulter ,Loan Defaulter ,Loan Defaulter ,Loan Defaulter ,Loan Defaulter ,Loan Defaulter ,Loan Defaulter ,Loan Defaulter ,Loan Defaulter ,Loan Defaulter ,Loan Defaulter ,Loan Defaulter ,Loan Defaulter ,Loan Defaulter ,Loan Defaulter ,Loan Defaulter ,Loan Defaulter ,Loan Defaulter ,Loan Defaulter ,Loan Defaulter ,Loan Defaulter ,Loan Defaulter ,Loan Defaulter ,Loan Defaulter ,Loan Defaulter ,Loan Defaulter ,Loan Defaulter ,Loan Defaulter ,Loan Defaulter ,Loan Defaulter ,Loan Defaulter ,Loan Defaulter ,Loan Defaulter ,Loan Defaulter ,Loan Defaulter ,Loan Defaulter ,Loan Defaulter ,Loan Defaulter ,Loan Defaulter ,Loan Defaulter ,Loan Defaulter ,Loan Defaulter ,Loan Defaulter ,Loan Defaulter ,Loan Defaulter ,Loan Defaulter ,Loan Defaulter ,Loan Defaulter ,Loan Defaulter ,Loan Defaulter ,Loan Defaulter ,Loan Defaulter ,Loan Defaulter ,Loan Defaulter ,Loan Defaulter ,Loan Defaulter ,Loan Defaulter ,Loan Defaulter ,Loan Defaulter ,Loan Defaulter ,Loan Defaulter ,Loan Defaulter ,Loan Defaulter ,Loan Defaulter ,Loan Defaulter ,Loan Defaulter ,Loan Defaulter ,Loan Defaulter ,Loan Defaulter ,Loan Defaulter ,Loan Defaulter ,Loan Defaulter ,Loan Defaulter ,Loan Defaulter ,Loan Defaulter ,Loan Defaulter ,Loan Defaulter ,Loan Defaulter ,Loan Defaulter ,Loan Defaulter ,Loan Defaulter ,Loan Defaulter ,Loan Defaulter ,Loan Defaulter ,Loan Defaulter ,Loan Defaulter ,Loan Defaulter ,Loan Defaulter ,Loan Defaulter ,Loan Defaulter ,Loan Defaulter ,Loan Defaulter ,Loan Defaulter ,Loan Defaulter ,Loan Defaulter ,Loan Defaulter ,Loan Defaulter ,Loan Defaulter ,Loan Defaulter ,Loan Defaulter ,Loan Defaulter ,Loan Defaulter ,Loan Defaulter ,Loan Defaulter ,Loan Defaulter ,Loan Defaulter ,Loan Defaulter ,Loan Defaulter ,Loan Defaulter ,Loan Defaulter ,Loan Defaulter ,Loan Defaulter ,Loan Defaulter ,Loan Defaulter ,Loan Defaulter ,Loan Defaulter ,Loan Defaulter ,Loan Defaulter ,Loan Defaulter ,Loan Defaulter ,Loan Defaulter ,Loan Defaulter ,Loan Defaulter ,Loan Defaulter ,Loan Defaulter ,Loan Defaulter ,Loan Defaulter ,Loan Defaulter ,Loan Defaulter ,Loan Defaulter ,Loan Defaulter ,Loan Defaulter ,Loan Defaulter ,Loan Defaulter ,Loan Defaulter ,Loan Defaulter ,Loan Defaulter ,Loan Defaulter ,Loan Defaulter ,Loan Defaulter ,Loan Defaulter ,Loan Defaulter ,Loan Defaulter ,Loan Defaulter ,Loan Defaulter ,Loan Defaulter ,Loan Defaulter ,Loan Defaulter ,Loan Defaulter ,Loan Defaulter ,Loan Defaulter ,Loan Defaulter ,Loan Defaulter ,Loan Defaulter ,Loan Defaulter ,Loan Defaulter ,Loan Defaulter ,Loan Defaulter ,Loan Defaulter ,Loan Defaulter ,Loan Defaulter ,Loan Defaulter ,Loan Defaulter ,Loan Defaulter ,Loan Defaulter ,Loan Defaulter ,Loan Defaulter ,Loan Defaulter ,Loan Defaulter ,Loan Defaulter ,Loan Defaulter ,Loan Defaulter ,Loan Defaulter ,Loan Defaulter ,Loan Defaulter ,Loan Defaulter ,Loan Defaulter ,Loan Defaulter ,Loan Defaulter ,Loan Defaulter ,Loan Defaulter ,Loan Defaulter ,Loan Defaulter ,Loan Defaulter ,Loan Defaulter ,Loan Defaulter ,Loan Defaulter ,Loan Defaulter ,Loan Defaulter ,Loan Defaulter ,Loan Defaulter ,Loan Defaulter ,Loan Defaulter ,Loan Defaulter ,Loan Defaulter ,Loan Defaulter ,Loan Defaulter ,Loan Defaulter ,Loan Defaulter ,Loan Defaulter ,Loan Defaulter ,Loan Defaulter ,Loan Defaulter ,Loan Defaulter ,Loan Defaulter ,Loan Defaulter ,Loan Defaulter ,Loan Defaulter ,Loan Defaulter ,Loan Defaulter ,Loan Defaulter ,Loan Defaulter ,Loan Defaulter ,Loan Defaulter ,Loan Defaulter ,Loan Defaulter ,Loan Defaulter ,Loan Defaulter ,Loan Defaulter ,Loan Defaulter ,Loan Defaulter ,Loan Defaulter ,Loan Defaulter ,Loan Defaulter ,Loan Defaulter ,Loan Defaulter ,Loan Defaulter ,Loan Defaulter ,Loan Defaulter ,Loan Defaulter ,Loan Defaulter ,Loan Defaulter ,Loan Defaulter ,Loan Defaulter ,Loan Defaulter ,Loan Defaulter ,Loan Defaulter ,Loan Defaulter ,Loan Defaulter ,Loan Defaulter ,Loan Defaulter ,Loan Defaulter ,Loan Defaulter ,Loan Defaulter ,Loan Defaulter ,Loan Defaulter ,Loan Defaulter ,Loan Defaulter ,Loan Defaulter ,Loan Defaulter ,Loan Defaulter ,Loan Defaulter ,Loan Defaulter ,Loan Defaulter ,Loan Defaulter ,Loan Defaulter ,Loan Defaulter ,Loan Defaulter ,Loan Defaulter ,Loan Defaulter ,Loan Defaulter ,Loan Defaulter ,Loan Defaulter ,Loan Defaulter ,Loan Defaulter ,Loan Defaulter ,Loan Defaulter ,Loan Defaulter ,Loan Defaulter ,Loan Defaulter ,Loan Defaulter ,Loan Defaulter ,Loan Defaulter ,Loan Defaulter ,Loan Defaulter ,Loan Defaulter ,Loan Defaulter ,Loan Defaulter ,Loan Defaulter ,Loan Defaulter ,Loan Defaulter ,Loan Defaulter ,Loan Defaulter ,Loan Defaulter ,Loan Defaulter ,Loan Defaulter ,Loan Defaulter ,Loan Defaulter ,Loan Defaulter ,Loan Defaulter ,Loan Defaulter ,Loan Defaulter ,Loan Defaulter ,"
     ]
    }
   ],
   "source": [
    "#making predictive system\n",
    "for index in range(1000):\n",
    "    \n",
    "  input_data=X[index]\n",
    "  input_data_as_numpy_array= np.asarray(input_data)\n",
    "  input_data_reshaped=input_data_as_numpy_array.reshape(1,-1)\n",
    "  prediction= model.predict(input_data_reshaped)\n",
    "  # print(prediction)\n",
    "  \n",
    "  if prediction =='No':\n",
    "     print('Loan Defaulter',end=' ,')\n",
    "  else:\n",
    "     print(\"Loan Retuned\",end=' ,')\n",
    "          "
   ]
  },
  {
   "cell_type": "code",
   "execution_count": null,
   "id": "564ad654",
   "metadata": {},
   "outputs": [],
   "source": []
  }
 ],
 "metadata": {
  "kernelspec": {
   "display_name": "Python 3 (ipykernel)",
   "language": "python",
   "name": "python3"
  },
  "language_info": {
   "codemirror_mode": {
    "name": "ipython",
    "version": 3
   },
   "file_extension": ".py",
   "mimetype": "text/x-python",
   "name": "python",
   "nbconvert_exporter": "python",
   "pygments_lexer": "ipython3",
   "version": "3.9.7"
  }
 },
 "nbformat": 4,
 "nbformat_minor": 5
}
